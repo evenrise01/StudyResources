{
 "cells": [
  {
   "cell_type": "markdown",
   "metadata": {},
   "source": [
    "Smith Waterman Algorithm\n",
    "\n",
    "1) Initialisation\n",
    "In Initialisation we need to create a matrix of (m+1) and (n+1) dimensions\n",
    "2) Matrix Matching\n",
    "3) Traceback\n",
    "We have to choose higher values  that are greater than 1 in the matrix and move upto 0"
   ]
  },
  {
   "cell_type": "code",
   "execution_count": 19,
   "metadata": {},
   "outputs": [],
   "source": [
    "import numpy as np\n",
    "from enum import IntEnum"
   ]
  },
  {
   "cell_type": "code",
   "execution_count": 20,
   "metadata": {},
   "outputs": [],
   "source": [
    "seq1 = \"ATGCT\"\n",
    "seq2 = \"AGCT\""
   ]
  },
  {
   "cell_type": "code",
   "execution_count": 21,
   "metadata": {},
   "outputs": [],
   "source": [
    "# Assigning the constants for the scores\n",
    "class Score(IntEnum):\n",
    "    MATCH = 1\n",
    "    MISMATCH = -1\n",
    "    GAP = -1"
   ]
  },
  {
   "cell_type": "code",
   "execution_count": 22,
   "metadata": {},
   "outputs": [],
   "source": [
    "# Assigning the constant values for the traceback\n",
    "class Trace(IntEnum):\n",
    "    STOP = 0\n",
    "    LEFT = 1 \n",
    "    UP = 2\n",
    "    DIAGONAL = 3\n"
   ]
  },
  {
   "cell_type": "markdown",
   "metadata": {},
   "source": [
    "Initialising the Matrix (m+1)x(n+1)"
   ]
  },
  {
   "cell_type": "code",
   "execution_count": 23,
   "metadata": {},
   "outputs": [],
   "source": [
    "# Implementing the Smith Waterman local alignment\n",
    "def smith_waterman(seq1, seq2):\n",
    "    # Generating the empty matrices for storing scores and tracing\n",
    "    row = len(seq1) + 1\n",
    "    col = len(seq2) + 1\n",
    "    matrix = np.zeros(shape=(row, col), dtype=int)  \n",
    "    tracing_matrix = np.zeros(shape=(row, col), dtype=int)\n",
    "\n",
    "    #Initialising the variables to find the highest scoring cell\n",
    "    max_score = -1;\n",
    "    max_index = (-1,-1)  \n",
    "\n",
    "    for i in range(1,row):\n",
    "        for j in range(1,col):\n",
    "\n",
    "            match_value = Score.MATCH if seq1[i-1] == seq2[j-1] else Score.MISMATCH\n",
    "            diagonal_score = matrix[i-1,j-1] + match_value\n",
    "\n",
    "            #Calculating the vertical gap score\n",
    "            vertical_score = matrix[i-1,j] + match_value\n",
    "            #Calculating the horizontal gap score\n",
    "            horizontal_score = matrix[i,j-1] + match_value\n",
    "\n",
    "            #Taking the highest score\n",
    "            matrix[i,j] = max(0,diagonal_score,vertical_score,horizontal_score)\n",
    "\n",
    "            if matrix[i,j] == 0:\n",
    "                tracing_matrix[i,j] = Trace.STOP\n",
    "\n",
    "            elif matrix[i,j] == horizontal_score:\n",
    "                tracing_matrix[i,j] = Trace.LEFT\n",
    "\n",
    "            elif matrix[i, j] == vertical_score: \n",
    "                tracing_matrix[i, j] = Trace.UP\n",
    "                \n",
    "            elif matrix[i, j] == diagonal_score: \n",
    "                tracing_matrix[i, j] = Trace.DIAGONAL \n",
    "                \n",
    "            # Tracking the cell with the maximum score\n",
    "            if matrix[i, j] >= max_score:\n",
    "                max_index = (i,j)\n",
    "                max_score = matrix[i, j]\n",
    "    #Initialising the variables for tracing\n",
    "    aligned_seq1 = \"\"\n",
    "    aligned_seq2 = \"\" \n",
    "    current_aligned_seq1 = \"\"   \n",
    "    current_aligned_seq2 = \"\"  \n",
    "    (max_i, max_j) = max_index\n",
    "\n",
    "    # Tracing and computing the pathway with the local alignment\n",
    "    while tracing_matrix[max_i, max_j] != Trace.STOP:\n",
    "        if tracing_matrix[max_i, max_j] == Trace.DIAGONAL:\n",
    "            current_aligned_seq1 = seq1[max_i - 1]\n",
    "            current_aligned_seq2 = seq2[max_j - 1]\n",
    "            max_i = max_i - 1\n",
    "            max_j = max_j - 1\n",
    "            \n",
    "        elif tracing_matrix[max_i, max_j] == Trace.UP:\n",
    "            current_aligned_seq1 = seq1[max_i - 1]\n",
    "            current_aligned_seq2 = '-'\n",
    "            max_i = max_i - 1    \n",
    "            \n",
    "        elif tracing_matrix[max_i, max_j] == Trace.LEFT:\n",
    "            current_aligned_seq1 = '-'\n",
    "            current_aligned_seq2 = seq2[max_j - 1]\n",
    "            max_j = max_j - 1\n",
    "            \n",
    "        aligned_seq1 = aligned_seq1 + current_aligned_seq1\n",
    "        aligned_seq2 = aligned_seq2 + current_aligned_seq2\n",
    "\n",
    "    print (matrix[i][j])\n",
    "    \n",
    "    # Reversing the order of the sequences\n",
    "    aligned_seq1 = aligned_seq1[::-1]\n",
    "    aligned_seq2 = aligned_seq2[::-1]\n",
    "    \n",
    "    \n",
    "    return aligned_seq1, aligned_seq2\n"
   ]
  },
  {
   "cell_type": "markdown",
   "metadata": {},
   "source": []
  },
  {
   "cell_type": "code",
   "execution_count": 24,
   "metadata": {},
   "outputs": [
    {
     "name": "stdout",
     "output_type": "stream",
     "text": [
      "3\n"
     ]
    },
    {
     "data": {
      "text/plain": [
       "('-CT', 'GCT')"
      ]
     },
     "execution_count": 24,
     "metadata": {},
     "output_type": "execute_result"
    }
   ],
   "source": [
    "smith_waterman(seq1,seq2)"
   ]
  },
  {
   "cell_type": "code",
   "execution_count": null,
   "metadata": {},
   "outputs": [],
   "source": []
  }
 ],
 "metadata": {
  "interpreter": {
   "hash": "7339233bad5de19f5ecc99bec74f4ed72eabe43e99bcba736294cbec8ddb2a6f"
  },
  "kernelspec": {
   "display_name": "Python 3.10.0 64-bit",
   "name": "python3"
  },
  "language_info": {
   "codemirror_mode": {
    "name": "ipython",
    "version": 3
   },
   "file_extension": ".py",
   "mimetype": "text/x-python",
   "name": "python",
   "nbconvert_exporter": "python",
   "pygments_lexer": "ipython3",
   "version": "3.10.0"
  },
  "orig_nbformat": 4
 },
 "nbformat": 4,
 "nbformat_minor": 2
}
